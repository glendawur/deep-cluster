{
 "cells": [
  {
   "cell_type": "code",
   "execution_count": 1,
   "id": "f4338d2c",
   "metadata": {},
   "outputs": [],
   "source": [
    "import torch\n",
    "import numpy as np\n",
    "from sklearn.datasets import make_circles, make_moons, make_blobs\n",
    "import matplotlib.pyplot as plt\n",
    "from sklearn.manifold import TSNE"
   ]
  },
  {
   "cell_type": "code",
   "execution_count": 2,
   "id": "b85c5dd8",
   "metadata": {},
   "outputs": [],
   "source": [
    "from torch.utils.data import TensorDataset, DataLoader\n",
    "\n",
    "def BenchmarkToDataloader(dataset, batch_size):\n",
    "    tensor_x = torch.Tensor(dataset[0])\n",
    "    tensor_y = torch.Tensor(dataset[1])\n",
    "    my_dataset = TensorDataset(tensor_x,tensor_y)\n",
    "    my_dataloader = DataLoader(my_dataset,batch_size=batch_size,shuffle=True) \n",
    "    return my_dataloader\n",
    "\n",
    "LABEL_TO_COLOR = {x: c for x, c in enumerate(['#a11a25', '#feadbb', '#3145ee', '#9aaaff', '#e8fd00',\n",
    "                                              '#51ffbc', '#fe5c0d', '#fe00b9', '#77662c', '#00810a'])}"
   ]
  },
  {
   "cell_type": "code",
   "execution_count": 3,
   "id": "03fbeb00",
   "metadata": {},
   "outputs": [
    {
     "name": "stdout",
     "output_type": "stream",
     "text": [
      "Collecting https://github.com/glendawur/deep-cluster\n",
      "Note: you may need to restart the kernel to use updated packages.\n"
     ]
    },
    {
     "name": "stderr",
     "output_type": "stream",
     "text": [
      "  ERROR: HTTP error 404 while getting https://github.com/glendawur/deep-cluster\n",
      "ERROR: Could not install requirement https://github.com/glendawur/deep-cluster because of HTTP error 404 Client Error: Not Found for url: https://github.com/glendawur/deep-cluster for URL https://github.com/glendawur/deep-cluster\n"
     ]
    }
   ],
   "source": [
    "pip install https://github.com/glendawur/deep-cluster.git"
   ]
  },
  {
   "cell_type": "code",
   "execution_count": null,
   "id": "1961520e",
   "metadata": {},
   "outputs": [],
   "source": []
  }
 ],
 "metadata": {
  "kernelspec": {
   "display_name": "Python 3 (ipykernel)",
   "language": "python",
   "name": "python3"
  },
  "language_info": {
   "codemirror_mode": {
    "name": "ipython",
    "version": 3
   },
   "file_extension": ".py",
   "mimetype": "text/x-python",
   "name": "python",
   "nbconvert_exporter": "python",
   "pygments_lexer": "ipython3",
   "version": "3.9.13"
  }
 },
 "nbformat": 4,
 "nbformat_minor": 5
}
