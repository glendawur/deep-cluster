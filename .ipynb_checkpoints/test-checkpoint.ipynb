{
 "cells": [
  {
   "cell_type": "code",
   "execution_count": 1,
   "id": "58b11ef8",
   "metadata": {},
   "outputs": [],
   "source": [
    "import torch\n",
    "import torch.nn as nn\n",
    "import numpy as np\n",
    "from sklearn.datasets import make_circles, make_moons, make_blobs\n",
    "import matplotlib.pyplot as plt\n",
    "from sklearn.manifold import TSNE"
   ]
  },
  {
   "cell_type": "code",
   "execution_count": 2,
   "id": "6b73cb6b",
   "metadata": {},
   "outputs": [],
   "source": [
    "from torch.utils.data import TensorDataset, DataLoader\n",
    "\n",
    "def BenchmarkToDataloader(dataset, batch_size):\n",
    "    tensor_x = torch.Tensor(dataset[0])\n",
    "    tensor_y = torch.Tensor(dataset[1])\n",
    "    my_dataset = TensorDataset(tensor_x,tensor_y)\n",
    "    my_dataloader = DataLoader(my_dataset,batch_size=batch_size,shuffle=True) \n",
    "    return my_dataloader\n",
    "\n",
    "LABEL_TO_COLOR = {x: c for x, c in enumerate(['#a11a25', '#feadbb', '#3145ee', '#9aaaff', '#e8fd00',\n",
    "                                              '#51ffbc', '#fe5c0d', '#fe00b9', '#77662c', '#00810a'])}"
   ]
  },
  {
   "cell_type": "code",
   "execution_count": 3,
   "id": "ff8a63e3",
   "metadata": {},
   "outputs": [],
   "source": [
    "from deepcluster import Autoencoder, reconstruction_loss"
   ]
  },
  {
   "cell_type": "code",
   "execution_count": 18,
   "id": "623ba30b",
   "metadata": {},
   "outputs": [
    {
     "data": {
      "image/png": "[encoded data removed]",
      "text/plain": [
       "<Figure size 640x480 with 1 Axes>"
      ]
     },
     "metadata": {},
     "output_type": "display_data"
    }
   ],
   "source": [
    "blobs = make_blobs(n_samples=5000, n_features=2, cluster_std=0.05, center_box=(-1.0, 1.0), shuffle=True)\n",
    "color_labels = [LABEL_TO_COLOR[i] for i in blobs[1]]\n",
    "plt.scatter(blobs[0][:,0], blobs[0][:,1], color = color_labels)\n",
    "dl_blobs = BenchmarkToDataloader(blobs, batch_size = 128)"
   ]
  },
  {
   "cell_type": "code",
   "execution_count": 5,
   "id": "58b8cd1b",
   "metadata": {},
   "outputs": [],
   "source": [
    "from deepcluster import DKM, dkm_loss"
   ]
  },
  {
   "cell_type": "code",
   "execution_count": 4,
   "id": "07868a9b",
   "metadata": {},
   "outputs": [],
   "source": [
    "from deepcluster import DEC, kl_divergence"
   ]
  },
  {
   "cell_type": "code",
   "execution_count": 14,
   "id": "f59015e8",
   "metadata": {},
   "outputs": [],
   "source": [
    "dec = DEC(input_dim=2, embed_dim=1, n_clusters=3, intermediate=[10, 20], activation_f=[nn.ReLU(), nn.ReLU()])"
   ]
  },
  {
   "cell_type": "code",
   "execution_count": 17,
   "id": "1709b292",
   "metadata": {},
   "outputs": [
    {
     "data": {
      "text/plain": [
       "[Parameter containing:\n",
       " tensor([[0.3046],\n",
       "         [0.1861],\n",
       "         [0.0911]], requires_grad=True),\n",
       " Parameter containing:\n",
       " tensor([[-0.6072, -0.4990],\n",
       "         [-0.5302,  0.2306],\n",
       "         [ 0.5485, -0.4811],\n",
       "         [ 0.5208,  0.6965],\n",
       "         [-0.3014, -0.6623],\n",
       "         [-1.0296,  0.1092],\n",
       "         [ 0.4176, -0.1995],\n",
       "         [ 0.4244, -0.2701],\n",
       "         [-0.3019, -0.5117],\n",
       "         [ 0.4941, -0.1027]], requires_grad=True),\n",
       " Parameter containing:\n",
       " tensor([-3.0741,  2.2228,  1.1567, -3.3870, -2.3754,  0.6195,  0.7600,  0.7455,\n",
       "         -1.1932, -1.4616], requires_grad=True),\n",
       " Parameter containing:\n",
       " tensor([[ 2.2207e-02, -1.1881e-01,  4.4061e-01, -1.4694e-01,  1.4186e-01,\n",
       "          -3.2663e-01, -1.2622e-01, -7.7014e-02,  6.8455e-02,  1.3277e-01],\n",
       "         [-7.6297e-01,  1.5471e-01, -1.9426e-01, -1.4754e-01,  3.2863e-01,\n",
       "          -4.4199e-01, -1.5997e-01, -3.4903e-01,  1.7255e-01,  1.0973e+00],\n",
       "         [-2.1648e-01, -7.5845e-02,  3.6129e-02,  8.1098e-01,  7.0160e-02,\n",
       "          -7.0999e-02,  2.8497e-01,  2.9969e-01,  1.4567e-01,  8.4428e-02],\n",
       "         [-9.7801e-02,  3.7181e-01, -8.3703e-01,  8.0769e-02, -1.9542e-01,\n",
       "           2.3914e-01, -9.7840e-01, -7.5746e-02, -4.1854e-01, -1.2126e+00],\n",
       "         [-4.1624e-02, -2.7663e-01,  1.4862e-01,  1.2410e-01, -5.5181e-01,\n",
       "           4.5947e-01, -2.5889e-02,  1.5443e-01, -6.3300e-02,  2.1782e-01],\n",
       "         [ 7.4915e-01, -2.5740e-01,  4.4869e-03, -4.1072e-01,  3.9943e-01,\n",
       "          -8.2313e-03,  1.4708e-01,  1.2588e-01,  2.2620e-01, -1.6361e-02],\n",
       "         [-1.1022e-01,  4.9661e-01, -8.1767e-01,  8.6671e-02, -4.2156e-02,\n",
       "          -1.4622e-01, -2.1994e-01, -3.3398e-01,  1.5588e-01, -4.1254e-01],\n",
       "         [-1.1492e-01, -1.9067e-02, -1.4566e-01,  1.6711e-01, -1.3210e-01,\n",
       "           3.6073e-01,  5.3835e-01, -1.4335e-01, -1.3742e-01,  6.2129e-03],\n",
       "         [-1.6861e-01, -4.5255e-01, -2.5652e-01, -2.5064e-02, -8.2204e-02,\n",
       "           8.9689e-02, -3.9970e-01,  5.2962e-01, -5.2213e-02,  5.2209e-03],\n",
       "         [-1.6845e+00,  2.0472e-01,  1.4814e-01,  2.2704e-01, -6.4070e-01,\n",
       "           4.3066e-01,  2.1636e-02,  1.7259e-01, -1.6877e-01,  1.7688e-01],\n",
       "         [ 2.1154e-01,  2.6750e-02,  9.8871e-02, -7.6035e-01,  5.2351e-01,\n",
       "          -1.9082e-02,  2.2100e-01,  1.9995e-01,  4.1568e-01, -4.5490e-01],\n",
       "         [ 6.0627e-01, -5.8069e-01, -9.7801e-02, -3.6962e-01,  3.0268e-02,\n",
       "          -7.7674e-01, -7.3018e-02, -5.2894e-02, -2.3646e-02, -2.8431e-01],\n",
       "         [ 6.5547e-01,  5.8442e-02,  1.4956e-01, -1.6455e-01,  5.6608e-01,\n",
       "          -8.5719e-02,  2.3984e-01,  2.3597e-01,  4.4851e-01, -2.1864e-02],\n",
       "         [-8.5005e-01,  2.7140e-01,  1.6048e-01,  1.0786e-01, -1.0843e+00,\n",
       "           5.1056e-01,  4.7386e-02,  1.8426e-01, -1.4629e-01,  3.3588e-01],\n",
       "         [-6.2319e-01,  8.6013e-02, -3.9286e-01,  1.4487e-01, -3.2023e-01,\n",
       "           2.1508e-01, -4.7203e-01, -3.2070e-01, -3.2994e-01, -1.4406e-01],\n",
       "         [-4.3971e-01,  4.9356e-02,  1.6931e-01,  4.3760e-01, -5.3644e-01,\n",
       "           1.6809e-01,  1.6542e-02,  1.4954e-01, -3.3963e-02,  1.6634e-01],\n",
       "         [-5.6444e-01,  6.8900e-02, -1.0131e+00,  4.7574e-01, -3.4516e-01,\n",
       "           3.2589e-05, -1.0080e+00, -7.6855e-01, -1.7757e-01, -7.2956e-01],\n",
       "         [-6.7393e-01,  5.3819e-02,  2.0705e-01, -1.5528e-01, -1.8673e-02,\n",
       "          -7.0667e-02,  2.3672e-01,  4.6981e-01,  1.4927e-01,  5.7022e-01],\n",
       "         [-7.1778e-01, -2.4445e-01, -1.0478e+00,  1.7921e-01, -4.2444e-01,\n",
       "           2.9034e-01, -1.2359e+00, -1.1080e+00, -6.2802e-01, -9.7341e-01],\n",
       "         [ 3.2154e-02,  5.6630e-01,  3.1640e-01,  5.6411e-02, -1.0180e-01,\n",
       "          -1.5896e-01, -1.3725e-01, -1.0673e-01, -9.8125e-02, -2.4635e-01]],\n",
       "        requires_grad=True),\n",
       " Parameter containing:\n",
       " tensor([-1.2582e+00,  8.1691e-02, -1.0491e+00, -9.9409e-01,  1.1583e+00,\n",
       "         -9.0411e-06, -1.8776e+00, -1.2469e+00,  4.1419e-01,  6.8528e-01,\n",
       "          7.5177e-01, -1.1601e-01,  5.1798e-02,  4.4357e-01,  5.9684e-01,\n",
       "          7.4776e-01,  5.3954e-01,  5.0203e-02,  1.0070e+00, -1.8248e+00],\n",
       "        requires_grad=True),\n",
       " Parameter containing:\n",
       " tensor([[-3.0628,  0.1198, -0.0752,  0.2408,  0.2241, -0.1601,  1.4499,  0.1724,\n",
       "          -0.1065,  0.0978, -0.2499,  0.0469, -0.1775,  0.0984,  0.1818,  0.1696,\n",
       "           0.2984, -0.3446,  0.5214,  1.0000]], requires_grad=True),\n",
       " Parameter containing:\n",
       " tensor([-0.9407], requires_grad=True),\n",
       " Parameter containing:\n",
       " tensor([[-0.2372],\n",
       "         [ 0.0205],\n",
       "         [-0.0278],\n",
       "         [ 0.6019],\n",
       "         [ 0.3102],\n",
       "         [-0.0036],\n",
       "         [-0.0076],\n",
       "         [ 0.2993],\n",
       "         [ 0.0065],\n",
       "         [ 0.7300],\n",
       "         [-0.0197],\n",
       "         [-0.1745],\n",
       "         [-0.0116],\n",
       "         [ 0.8004],\n",
       "         [ 0.4310],\n",
       "         [ 0.3400],\n",
       "         [-0.0139],\n",
       "         [-0.4995],\n",
       "         [ 0.2130],\n",
       "         [ 0.0449]], requires_grad=True),\n",
       " Parameter containing:\n",
       " tensor([-0.3695, -0.4733,  0.5251,  0.2174,  0.7171, -0.8091, -0.6192, -0.5680,\n",
       "         -0.0980,  1.7421, -0.5107,  0.3399, -0.4016,  1.9467,  0.6606,  1.1630,\n",
       "         -0.6840,  0.8545,  0.1625,  0.0923], requires_grad=True),\n",
       " Parameter containing:\n",
       " tensor([[-0.0243,  0.0280, -0.0474, -0.2194, -0.7734,  0.1232, -0.3602, -0.1340,\n",
       "          -0.0938, -0.7591,  0.0368,  0.3492,  0.0315, -0.6599, -0.3940, -0.8373,\n",
       "          -0.3500,  0.0440, -1.0604,  0.1533],\n",
       "         [-0.9956, -0.5080, -0.0927,  0.1858,  0.1501, -1.0037,  0.7387,  0.1950,\n",
       "           0.3851,  0.0917, -0.3854, -0.8076, -1.0987,  0.0863,  0.1767,  0.1294,\n",
       "           0.4248, -0.4816,  0.3818,  0.5963],\n",
       "         [ 0.5662,  0.3531,  0.2575, -1.4234, -0.8963,  0.1520, -0.8410,  0.7069,\n",
       "           0.5596, -0.5544,  0.0996,  0.2301,  0.0804, -0.5557, -1.4853, -0.5972,\n",
       "          -2.1688,  0.2146, -2.3403,  1.4811],\n",
       "         [-0.3790,  0.4235,  0.3505,  0.0210,  0.0257, -0.6484,  0.0191, -0.2836,\n",
       "           0.0439,  0.0415, -0.7752, -0.3814, -0.1967,  0.0343,  0.0367,  0.1072,\n",
       "           0.2566, -0.1306,  0.0627,  0.0148],\n",
       "         [ 0.0265,  0.1024, -0.0127, -0.2706, -1.5933,  0.1579, -0.3375, -0.0435,\n",
       "          -0.0251, -1.4916,  0.0613,  0.3897,  0.0466, -1.4539, -0.9341, -1.7176,\n",
       "          -0.8040,  0.0512, -1.0951,  0.2888],\n",
       "         [-0.5335, -3.4057, -0.1452,  0.2647,  0.2257, -0.3734,  1.0812,  0.6199,\n",
       "           0.6425,  0.1101, -0.5985, -0.2453, -0.9917,  0.1064,  0.1932,  0.1428,\n",
       "           0.2315, -0.8153,  0.4455,  0.8802],\n",
       "         [ 0.3773,  0.2110,  0.1809, -1.0938, -0.5463,  0.0855, -0.4358,  0.4150,\n",
       "           0.3234, -0.3763,  0.0533,  0.1687,  0.0448, -0.3563, -1.3711, -0.4035,\n",
       "          -1.6651,  0.1640, -1.5629,  2.2001],\n",
       "         [ 0.4069,  0.2509,  0.1946, -0.4147, -0.8120,  0.0918, -0.3998,  0.4577,\n",
       "           0.3594, -0.6631,  0.0571,  0.1714,  0.0488, -0.7043, -2.0311, -0.5279,\n",
       "          -1.7211,  0.1699, -1.7834,  2.0309],\n",
       "         [ 0.0981,  0.1346,  0.0344, -0.2355, -1.9162,  0.1342, -0.7079,  0.0558,\n",
       "           0.0516, -1.7218,  0.0559,  0.3247,  0.0434, -1.8072, -1.9959, -2.0524,\n",
       "          -1.4593,  0.0746, -0.4493,  0.3384],\n",
       "         [ 0.1408,  0.3051,  0.2374, -0.9249,  0.3224, -0.0714, -1.3496,  0.0978,\n",
       "           0.1066,  0.2179, -0.0570, -0.0984, -0.0086,  0.2036, -0.2441,  0.4654,\n",
       "          -0.6538,  0.1157, -0.5568,  0.3204]], requires_grad=True),\n",
       " Parameter containing:\n",
       " tensor([0.5278, 2.2974, 3.5604, 0.4889, 1.5781, 0.3358, 2.3831, 2.4440, 2.1393,\n",
       "         0.5829], requires_grad=True),\n",
       " Parameter containing:\n",
       " tensor([[ 2.2355e-02, -2.0615e-01,  1.2376e-02, -1.0428e-01,  1.7549e-03,\n",
       "          -4.7377e-01,  3.9966e-02,  4.4554e-02,  7.1789e-04,  1.0192e+00],\n",
       "         [-6.8962e-01,  5.1577e-01, -4.1992e-01,  9.4037e-01, -4.5733e-01,\n",
       "           5.4018e-01, -6.2903e-01, -5.9051e-01, -4.3418e-01, -4.7683e-01]],\n",
       "        requires_grad=True),\n",
       " Parameter containing:\n",
       " tensor([1.8202, 4.4304], requires_grad=True)]"
      ]
     },
     "execution_count": 17,
     "metadata": {},
     "output_type": "execute_result"
    }
   ],
   "source": [
    "list(dec.parameters())"
   ]
  },
  {
   "cell_type": "code",
   "execution_count": 16,
   "id": "b22066f3",
   "metadata": {},
   "outputs": [
    {
     "name": "stdout",
     "output_type": "stream",
     "text": [
      "Learning Rate is updated\n",
      "Learning Rate is updated\n",
      "Learning Rate is updated\n",
      "Layer 0 trained\n",
      "Learning Rate is updated\n",
      "Learning Rate is updated\n",
      "Learning Rate is updated\n",
      "Layer 1 trained\n",
      "Learning Rate is updated\n",
      "Learning Rate is updated\n",
      "Learning Rate is updated\n",
      "Layer 2 trained\n",
      "\tEpoch 1 \\AvgLoss:  7.28012\n",
      "\tEpoch 2 \\AvgLoss:  2.51068\n",
      "\tEpoch 3 \\AvgLoss:  2.38825\n",
      "\tEpoch 4 \\AvgLoss:  2.35382\n",
      "\tEpoch 5 \\AvgLoss:  2.35034\n",
      "\tEpoch 6 \\AvgLoss:  2.32208\n",
      "\tEpoch 7 \\AvgLoss:  2.3264\n",
      "\tEpoch 8 \\AvgLoss:  2.34333\n",
      "\tEpoch 9 \\AvgLoss:  2.33295\n",
      "\tEpoch 10 \\AvgLoss:  2.3278\n"
     ]
    }
   ],
   "source": [
    "dec.ae_train(dl_blobs, epochs = 25, optimizer=torch.optim.Adam, optimizer_params={'lr': 0.01})"
   ]
  },
  {
   "cell_type": "code",
   "execution_count": null,
   "id": "66144f4d",
   "metadata": {},
   "outputs": [],
   "source": [
    "dec.pa"
   ]
  },
  {
   "cell_type": "code",
   "execution_count": 14,
   "id": "311e027e",
   "metadata": {},
   "outputs": [
    {
     "name": "stdout",
     "output_type": "stream",
     "text": [
      "\tEpoch 1 \t AvgLoss:  0.00789\n",
      "\tEpoch 2 \t AvgLoss:  0.00822\n",
      "\tEpoch 3 \t AvgLoss:  0.00864\n",
      "\tEpoch 4 \t AvgLoss:  0.00919\n",
      "\tEpoch 5 \t AvgLoss:  0.00897\n",
      "\tEpoch 6 \t AvgLoss:  0.00839\n",
      "\tEpoch 7 \t AvgLoss:  0.00833\n",
      "\tEpoch 8 \t AvgLoss:  0.00812\n",
      "delta label is 0.0008. Convergence reported at epoch 8.\n"
     ]
    }
   ],
   "source": [
    "dec.fit_finetune(dl_blobs, optimizer=torch.optim.Adam, optimizer_params={'lr': 0.001})"
   ]
  },
  {
   "cell_type": "code",
   "execution_count": 5,
   "id": "5c44cf41",
   "metadata": {},
   "outputs": [],
   "source": [
    "from deepcluster import IDEC, idec_loss"
   ]
  },
  {
   "cell_type": "code",
   "execution_count": 10,
   "id": "7bdbea71",
   "metadata": {},
   "outputs": [],
   "source": [
    "idec = IDEC(input_dim=2, embed_dim=1, n_clusters=3, intermediate=[10, 20], activation_f=[nn.ReLU(), nn.ReLU()])"
   ]
  },
  {
   "cell_type": "code",
   "execution_count": 11,
   "id": "5905786c",
   "metadata": {},
   "outputs": [
    {
     "name": "stdout",
     "output_type": "stream",
     "text": [
      "Layer 0 trained\n",
      "Layer 1 trained\n",
      "Layer 2 trained\n",
      "\tEpoch 1 \\AvgLoss:  43341.18522\n",
      "\tEpoch 2 \\AvgLoss:  4046.80965\n",
      "\tEpoch 3 \\AvgLoss:  680.21646\n",
      "\tEpoch 4 \\AvgLoss:  465.26804\n",
      "\tEpoch 5 \\AvgLoss:  370.20948\n"
     ]
    }
   ],
   "source": [
    "idec.ae_train(dl_blobs, epochs=5, pretrain_epochs=5)"
   ]
  },
  {
   "cell_type": "code",
   "execution_count": 15,
   "id": "d974a179",
   "metadata": {
    "scrolled": true
   },
   "outputs": [
    {
     "name": "stdout",
     "output_type": "stream",
     "text": [
      "\tEpoch 1 \t AvgLoss:  208.85088 \t Rec Loss:  208.75529 \t KL Loss:  0.95584\n",
      "\tEpoch 2 \t AvgLoss:  100.83544 \t Rec Loss:  100.8066 \t KL Loss:  0.28839\n",
      "\tEpoch 3 \t AvgLoss:  69.65043 \t Rec Loss:  69.63737 \t KL Loss:  0.1306\n",
      "\tEpoch 4 \t AvgLoss:  52.03962 \t Rec Loss:  52.02932 \t KL Loss:  0.10296\n",
      "\tEpoch 5 \t AvgLoss:  39.93613 \t Rec Loss:  39.92818 \t KL Loss:  0.07944\n",
      "\tEpoch 6 \t AvgLoss:  31.02017 \t Rec Loss:  31.01406 \t KL Loss:  0.06106\n",
      "\tEpoch 7 \t AvgLoss:  25.06715 \t Rec Loss:  25.06017 \t KL Loss:  0.06988\n",
      "\tEpoch 8 \t AvgLoss:  20.82818 \t Rec Loss:  20.82262 \t KL Loss:  0.0556\n",
      "\tEpoch 9 \t AvgLoss:  17.60612 \t Rec Loss:  17.60137 \t KL Loss:  0.04749\n",
      "\tEpoch 10 \t AvgLoss:  15.2096 \t Rec Loss:  15.20493 \t KL Loss:  0.04668\n"
     ]
    }
   ],
   "source": [
    "idec.fit_finetune(dl_blobs, epochs = 10)"
   ]
  },
  {
   "cell_type": "code",
   "execution_count": 5,
   "id": "81b16a1a",
   "metadata": {},
   "outputs": [],
   "source": [
    "from deepcluster import DCN, dcn_loss"
   ]
  },
  {
   "cell_type": "code",
   "execution_count": 6,
   "id": "004399e9",
   "metadata": {},
   "outputs": [],
   "source": [
    "dcn = DCN(input_dim=2, embed_dim=1, n_clusters=3, intermediate=[10, 20], activation_f=[nn.ReLU(), nn.ReLU()])"
   ]
  },
  {
   "cell_type": "code",
   "execution_count": 7,
   "id": "c6d68085",
   "metadata": {
    "scrolled": true
   },
   "outputs": [
    {
     "name": "stdout",
     "output_type": "stream",
     "text": [
      "Layer 0 trained\n",
      "Layer 1 trained\n",
      "Layer 2 trained\n"
     ]
    }
   ],
   "source": [
    "dcn.ae_pretrain(dl_blobs, epochs=5)"
   ]
  },
  {
   "cell_type": "code",
   "execution_count": 8,
   "id": "e9840a58",
   "metadata": {},
   "outputs": [
    {
     "name": "stdout",
     "output_type": "stream",
     "text": [
      "torch.Size([256, 2])\n",
      "torch.Size([256, 2])\n",
      "torch.Size([256, 2])\n",
      "torch.Size([256, 2])\n",
      "torch.Size([256, 2])\n",
      "torch.Size([256, 2])\n",
      "torch.Size([256, 2])\n",
      "torch.Size([256, 2])\n",
      "torch.Size([256, 2])\n",
      "torch.Size([256, 2])\n",
      "torch.Size([256, 2])\n",
      "torch.Size([256, 2])\n",
      "torch.Size([256, 2])\n",
      "torch.Size([256, 2])\n",
      "torch.Size([256, 2])\n",
      "torch.Size([256, 2])\n",
      "torch.Size([256, 2])\n",
      "torch.Size([256, 2])\n",
      "torch.Size([256, 2])\n",
      "torch.Size([136, 2])\n",
      "\tEpoch 1 \t AvgLoss:  30.04806 \t Rec Loss:  28.68971 \t Clss Loss:  5.43339\n",
      "torch.Size([256, 2])\n",
      "torch.Size([256, 2])\n",
      "torch.Size([256, 2])\n",
      "torch.Size([256, 2])\n",
      "torch.Size([256, 2])\n",
      "torch.Size([256, 2])\n",
      "torch.Size([256, 2])\n",
      "torch.Size([256, 2])\n",
      "torch.Size([256, 2])\n",
      "torch.Size([256, 2])\n",
      "torch.Size([256, 2])\n",
      "torch.Size([256, 2])\n",
      "torch.Size([256, 2])\n",
      "torch.Size([256, 2])\n",
      "torch.Size([256, 2])\n",
      "torch.Size([256, 2])\n",
      "torch.Size([256, 2])\n",
      "torch.Size([256, 2])\n",
      "torch.Size([256, 2])\n",
      "torch.Size([136, 2])\n",
      "\tEpoch 2 \t AvgLoss:  5.82634 \t Rec Loss:  4.16107 \t Clss Loss:  6.66106\n",
      "torch.Size([256, 2])\n",
      "torch.Size([256, 2])\n",
      "torch.Size([256, 2])\n",
      "torch.Size([256, 2])\n",
      "torch.Size([256, 2])\n",
      "torch.Size([256, 2])\n",
      "torch.Size([256, 2])\n",
      "torch.Size([256, 2])\n",
      "torch.Size([256, 2])\n",
      "torch.Size([256, 2])\n",
      "torch.Size([256, 2])\n",
      "torch.Size([256, 2])\n",
      "torch.Size([256, 2])\n",
      "torch.Size([256, 2])\n",
      "torch.Size([256, 2])\n",
      "torch.Size([256, 2])\n",
      "torch.Size([256, 2])\n",
      "torch.Size([256, 2])\n",
      "torch.Size([256, 2])\n",
      "torch.Size([136, 2])\n",
      "\tEpoch 3 \t AvgLoss:  2.29987 \t Rec Loss:  1.95648 \t Clss Loss:  1.37358\n",
      "torch.Size([256, 2])\n",
      "torch.Size([256, 2])\n",
      "torch.Size([256, 2])\n",
      "torch.Size([256, 2])\n",
      "torch.Size([256, 2])\n",
      "torch.Size([256, 2])\n",
      "torch.Size([256, 2])\n",
      "torch.Size([256, 2])\n",
      "torch.Size([256, 2])\n",
      "torch.Size([256, 2])\n",
      "torch.Size([256, 2])\n",
      "torch.Size([256, 2])\n",
      "torch.Size([256, 2])\n",
      "torch.Size([256, 2])\n",
      "torch.Size([256, 2])\n",
      "torch.Size([256, 2])\n",
      "torch.Size([256, 2])\n",
      "torch.Size([256, 2])\n",
      "torch.Size([256, 2])\n",
      "torch.Size([136, 2])\n",
      "\tEpoch 4 \t AvgLoss:  1.92944 \t Rec Loss:  1.71901 \t Clss Loss:  0.84171\n",
      "torch.Size([256, 2])\n",
      "torch.Size([256, 2])\n",
      "torch.Size([256, 2])\n",
      "torch.Size([256, 2])\n",
      "torch.Size([256, 2])\n",
      "torch.Size([256, 2])\n",
      "torch.Size([256, 2])\n",
      "torch.Size([256, 2])\n",
      "torch.Size([256, 2])\n",
      "torch.Size([256, 2])\n",
      "torch.Size([256, 2])\n",
      "torch.Size([256, 2])\n",
      "torch.Size([256, 2])\n",
      "torch.Size([256, 2])\n",
      "torch.Size([256, 2])\n",
      "torch.Size([256, 2])\n",
      "torch.Size([256, 2])\n",
      "torch.Size([256, 2])\n",
      "torch.Size([256, 2])\n",
      "torch.Size([136, 2])\n",
      "\tEpoch 5 \t AvgLoss:  1.77946 \t Rec Loss:  1.63733 \t Clss Loss:  0.56853\n"
     ]
    }
   ],
   "source": [
    "dcn.fit(dl_blobs, epochs = 5)"
   ]
  },
  {
   "cell_type": "code",
   "execution_count": 10,
   "id": "e5168015",
   "metadata": {},
   "outputs": [],
   "source": [
    "t1 , t2= dcn(list(dl_blobs)[0][0])"
   ]
  },
  {
   "cell_type": "code",
   "execution_count": 13,
   "id": "5662fc2e",
   "metadata": {},
   "outputs": [
    {
     "data": {
      "text/plain": [
       "(tensor(204.1119, grad_fn=<AddBackward0>),\n",
       " tensor(195.4132, grad_fn=<MeanBackward0>),\n",
       " tensor(34.7948, grad_fn=<MeanBackward0>))"
      ]
     },
     "execution_count": 13,
     "metadata": {},
     "output_type": "execute_result"
    }
   ],
   "source": [
    "dcn_loss(list(dl_blobs)[0][0],t2, t1, torch.nn.functional.one_hot(torch.cdist(t2, dcn.centers).argmin(dim=1)),\n",
    "         dcn.centers)"
   ]
  },
  {
   "cell_type": "code",
   "execution_count": 15,
   "id": "c64ec29d",
   "metadata": {},
   "outputs": [
    {
     "data": {
      "text/plain": [
       "tensor([[  7.7287,  -3.2454],\n",
       "        [ -9.2541,  -5.3287],\n",
       "        [  7.7528,  -3.2698],\n",
       "        [  3.1757,   0.5556],\n",
       "        [  7.6075,  -3.1224],\n",
       "        [ -8.0357,  -4.6385],\n",
       "        [ -9.0751,  -5.2273],\n",
       "        [ -6.4956,  -3.7503],\n",
       "        [  7.7743,  -3.2916],\n",
       "        [  7.0427,  -2.5491],\n",
       "        [  6.9226,  -2.4272],\n",
       "        [  9.3151,  -4.8556],\n",
       "        [  7.5150,  -3.0285],\n",
       "        [ -7.2607,  -4.1994],\n",
       "        [ -7.8888,  -4.5552],\n",
       "        [  7.3521,  -2.8631],\n",
       "        [  6.8932,  -2.3974],\n",
       "        [  2.8115,   0.5298],\n",
       "        [-10.2790,  -5.9093],\n",
       "        [ -7.9114,  -4.5680],\n",
       "        [  8.4564,  -3.9839],\n",
       "        [ -7.4243,  -4.2921],\n",
       "        [  2.5285,   0.3794],\n",
       "        [-10.3648,  -5.9579],\n",
       "        [  2.8796,   0.5346],\n",
       "        [ -8.8006,  -5.0718],\n",
       "        [-10.3793,  -5.9661],\n",
       "        [  8.4970,  -4.0252],\n",
       "        [  7.3244,  -2.8350],\n",
       "        [  7.1819,  -2.6903],\n",
       "        [  7.1924,  -2.7011],\n",
       "        [  3.2935,   0.5524],\n",
       "        [ -9.2637,  -5.3341],\n",
       "        [-10.4109,  -5.9840],\n",
       "        [  7.2571,  -2.7668],\n",
       "        [  5.8700,  -1.3588],\n",
       "        [-10.2698,  -5.9041],\n",
       "        [  7.8486,  -3.3670],\n",
       "        [ -6.9956,  -4.0444],\n",
       "        [  3.2275,   0.5593],\n",
       "        [  2.7576,   0.5105],\n",
       "        [  7.6875,  -3.2035],\n",
       "        [  2.5165,   0.3700],\n",
       "        [  7.8205,  -3.3386],\n",
       "        [ -7.4696,  -4.3178],\n",
       "        [  7.0343,  -2.5405],\n",
       "        [  2.5137,   0.3677],\n",
       "        [  8.2639,  -3.7886],\n",
       "        [  2.7354,   0.4983],\n",
       "        [  2.8628,   0.5334],\n",
       "        [ -9.3112,  -5.3610],\n",
       "        [  5.8602,  -1.3488],\n",
       "        [ -7.4908,  -4.3298],\n",
       "        [ -7.8463,  -4.5312],\n",
       "        [  7.5292,  -3.0429],\n",
       "        [ -8.9368,  -5.1489],\n",
       "        [  3.0364,   0.5457],\n",
       "        [  8.8816,  -4.4155],\n",
       "        [  3.0809,   0.5489],\n",
       "        [  7.8996,  -3.4188],\n",
       "        [  7.8679,  -3.3867],\n",
       "        [  8.7431,  -4.2750],\n",
       "        [  6.5097,  -2.0081],\n",
       "        [ -7.2941,  -4.2184],\n",
       "        [ -5.8954,  -3.3972],\n",
       "        [  8.3939,  -3.9205],\n",
       "        [  2.7278,   0.4941],\n",
       "        [  9.2604,  -4.8000],\n",
       "        [ -8.3791,  -4.8330],\n",
       "        [  8.2714,  -3.7962],\n",
       "        [  3.2439,   0.5605],\n",
       "        [ -6.3118,  -3.6422],\n",
       "        [  8.5431,  -4.0720],\n",
       "        [  3.2617,   0.5617],\n",
       "        [  2.5358,   0.3851],\n",
       "        [ -6.2888,  -3.6287],\n",
       "        [ -8.8411,  -5.0947],\n",
       "        [ -6.2522,  -3.6071],\n",
       "        [  6.4369,  -1.9342],\n",
       "        [  4.7454,  -0.2174],\n",
       "        [ -7.1587,  -4.1403],\n",
       "        [  7.8986,  -3.4178],\n",
       "        [  1.5652,   0.0564],\n",
       "        [ 10.2516,  -5.8061],\n",
       "        [  2.6364,   0.4439],\n",
       "        [  7.1771,  -2.6856],\n",
       "        [-11.0725,  -6.3588],\n",
       "        [ -8.4520,  -4.8743],\n",
       "        [  7.5293,  -3.0430],\n",
       "        [  6.1446,  -1.6375],\n",
       "        [  2.3300,   0.2408],\n",
       "        [  1.7594,   0.1032],\n",
       "        [  3.0246,   0.5449],\n",
       "        [ -6.8985,  -3.9873],\n",
       "        [ -8.1020,  -4.6760],\n",
       "        [  3.0230,   0.5448],\n",
       "        [  2.6338,   0.4424],\n",
       "        [  9.1776,  -4.7160],\n",
       "        [ -9.2067,  -5.3018],\n",
       "        [  7.5643,  -3.0786],\n",
       "        [ -8.5486,  -4.9290],\n",
       "        [-10.5781,  -6.0787],\n",
       "        [  6.9328,  -2.4376],\n",
       "        [  8.4365,  -3.9638],\n",
       "        [ -9.2918,  -5.3500],\n",
       "        [ -8.3219,  -4.8006],\n",
       "        [  6.9842,  -2.4897],\n",
       "        [  6.8963,  -2.4005],\n",
       "        [ -8.9468,  -5.1546],\n",
       "        [ -7.6150,  -4.4001],\n",
       "        [  6.7932,  -2.2959],\n",
       "        [-10.3079,  -5.9257],\n",
       "        [  2.7367,   0.4990],\n",
       "        [  2.4750,   0.3373],\n",
       "        [  6.7774,  -2.2798],\n",
       "        [  2.5715,   0.4082],\n",
       "        [ -9.9794,  -5.7395],\n",
       "        [  2.3505,   0.2458],\n",
       "        [  8.8294,  -4.3626],\n",
       "        [ -9.2789,  -5.3428],\n",
       "        [  7.1181,  -2.6256],\n",
       "        [ -8.1978,  -4.7303],\n",
       "        [ -7.3825,  -4.2684],\n",
       "        [  6.1657,  -1.6589],\n",
       "        [ -8.0347,  -4.6379],\n",
       "        [  3.1856,   0.5563],\n",
       "        [  6.2899,  -1.7850],\n",
       "        [  7.5848,  -3.0993]], grad_fn=<AddmmBackward0>)"
      ]
     },
     "execution_count": 15,
     "metadata": {},
     "output_type": "execute_result"
    }
   ],
   "source": [
    "t1"
   ]
  },
  {
   "cell_type": "code",
   "execution_count": null,
   "id": "3d9fd74c",
   "metadata": {},
   "outputs": [],
   "source": []
  }
 ],
 "metadata": {
  "kernelspec": {
   "display_name": "Python 3 (ipykernel)",
   "language": "python",
   "name": "python3"
  },
  "language_info": {
   "codemirror_mode": {
    "name": "ipython",
    "version": 3
   },
   "file_extension": ".py",
   "mimetype": "text/x-python",
   "name": "python",
   "nbconvert_exporter": "python",
   "pygments_lexer": "ipython3",
   "version": "3.9.13"
  }
 },
 "nbformat": 4,
 "nbformat_minor": 5
}
